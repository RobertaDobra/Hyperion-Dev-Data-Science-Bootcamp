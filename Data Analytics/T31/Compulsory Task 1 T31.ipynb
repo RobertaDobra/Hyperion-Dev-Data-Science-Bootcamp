{
 "cells": [
  {
   "cell_type": "markdown",
   "metadata": {},
   "source": [
    "## Compulsory Task 1\n",
    "\n",
    "In this compulsory task you will clean the country column and parse the date column in the **store_income_data_task.csv** file."
   ]
  },
  {
   "cell_type": "code",
   "execution_count": 67,
   "metadata": {},
   "outputs": [],
   "source": [
    "# Load up store_income_data.csv\n",
    "import pandas as pd\n",
    "import seaborn as sns\n",
    "df = pd.read_csv('store_income_data_task.csv')"
   ]
  },
  {
   "cell_type": "markdown",
   "metadata": {},
   "source": [
    "1. Take a look at all the unique values in the \"country\" column. Then, convert the column to lowercase and remove any trailing white spaces."
   ]
  },
  {
   "cell_type": "code",
   "execution_count": 68,
   "metadata": {},
   "outputs": [
    {
     "name": "stdout",
     "output_type": "stream",
     "text": [
      "0                united states/\n",
      "1                       britain\n",
      "2                 united states\n",
      "3                      britain/\n",
      "4                united kingdom\n",
      "                 ...           \n",
      "995      s. africasouth africa/\n",
      "996               united states\n",
      "997    united states of america\n",
      "998                     england\n",
      "999              united kingdom\n",
      "Name: country, Length: 1000, dtype: object\n"
     ]
    }
   ],
   "source": [
    "df['country']=df['country'].str.lower().str.strip() #converts string to lower case and strips whitespaces\n",
    "print(df['country'])"
   ]
  },
  {
   "cell_type": "markdown",
   "metadata": {},
   "source": [
    "2. Note that there should only be three separate countries. Eliminate all variations, so that 'South Africa', 'United Kingdom' and 'United States' are the only three countries."
   ]
  },
  {
   "cell_type": "code",
   "execution_count": 69,
   "metadata": {},
   "outputs": [
    {
     "name": "stdout",
     "output_type": "stream",
     "text": [
      "There are 5 unique countries\n"
     ]
    },
    {
     "data": {
      "text/plain": [
       "array(['united states', 'united kingdom', 'south africa', nan, ''],\n",
       "      dtype=object)"
      ]
     },
     "execution_count": 69,
     "metadata": {},
     "output_type": "execute_result"
    }
   ],
   "source": [
    "df['country']=df['country'].str.strip(\"/\")\n",
    "df['country']=df['country'].str.strip(\".\")\n",
    "\n",
    "import fuzzywuzzy\n",
    "from fuzzywuzzy import process\n",
    "import chardet\n",
    "\n",
    "def replace_matches_in_column(df, column, string_to_match, min_ratio = 90):\n",
    "    # get a list of unique strings\n",
    "    strings = df[column].unique()\n",
    "    \n",
    "    # get the top 10 closest matches to our input string\n",
    "    matches = fuzzywuzzy.process.extract(string_to_match, strings, \n",
    "                                         limit=10, scorer=fuzzywuzzy.fuzz.token_sort_ratio)\n",
    "\n",
    "    # only get matches with a ratio > 90\n",
    "    close_matches = [matches[0] for matches in matches if matches[1] >= min_ratio]\n",
    "\n",
    "    # get the rows of all the close matches in our dataframe\n",
    "    rows_with_matches = df[column].isin(close_matches)\n",
    "\n",
    "    # replace all rows with close matches with the input matches \n",
    "    df.loc[rows_with_matches, column] = string_to_match\n",
    "    \n",
    "replace_matches_in_column(df=df, column='country', string_to_match=\"united kingdom\")\n",
    "\n",
    "replace_matches_in_column(df=df, column='country', string_to_match=\"united states of america\")\n",
    "\n",
    "replace_matches_in_column(df=df, column='country', string_to_match=\"S. Africa\")\n",
    "replace_matches_in_column(df=df, column='country', string_to_match=\"s.a\")\n",
    "\n",
    "df.replace('britain', 'united kingdom', inplace=True)\n",
    "df.replace('u.k', 'united kingdom', inplace=True)\n",
    "df.replace('uk', 'united kingdom', inplace=True)\n",
    "df.replace('england', 'united kingdom', inplace=True)\n",
    "df.replace('britain', 'united kingdom', inplace=True)\n",
    "\n",
    "df.replace('s. africasouth africa', 'south africa', inplace=True)\n",
    "df.replace('s.a', 'south africa', inplace=True)\n",
    "df.replace('sa', 'south africa', inplace=True)\n",
    "\n",
    "df.replace('united states of america', 'united states', inplace=True)\n",
    "df.replace('america', 'united states', inplace=True)\n",
    "\n",
    "countries = df['country'].unique()\n",
    "\n",
    "print(f\"There are {len(countries)} unique countries\")\n",
    "countries\n"
   ]
  },
  {
   "cell_type": "markdown",
   "metadata": {},
   "source": [
    "3. Create a new column called `days_ago` in the DataFrame that is a copy of the 'date_measured' column, but instead it is a number that shows how many days ago it was measured from the current date. Note that the current date can be obtained using `datetime.date.today()`."
   ]
  },
  {
   "cell_type": "code",
   "execution_count": 103,
   "metadata": {},
   "outputs": [],
   "source": [
    "import datetime                                      \n",
    "df['date_parsed'] =  pd.to_datetime(df['date_measured'], format='%d-%m-%Y') #convert column to datetime"
   ]
  },
  {
   "cell_type": "code",
   "execution_count": 104,
   "metadata": {},
   "outputs": [],
   "source": [
    "df['date_today']=datetime.date.today() #get time today\n",
    "df['date_today'] = pd.to_datetime(df['date_today'])"
   ]
  },
  {
   "cell_type": "code",
   "execution_count": 105,
   "metadata": {},
   "outputs": [
    {
     "data": {
      "text/plain": [
       "0       6238\n",
       "1       6269\n",
       "2       7114\n",
       "3       6145\n",
       "4      18305\n",
       "       ...  \n",
       "995     6358\n",
       "996    11764\n",
       "997     5062\n",
       "998     4434\n",
       "999     4112\n",
       "Name: days_ago, Length: 1000, dtype: int64"
      ]
     },
     "execution_count": 105,
     "metadata": {},
     "output_type": "execute_result"
    }
   ],
   "source": [
    "df['days_ago']=df['date_today']-df['date_parsed']  #subtract to work out time lapsed\n",
    "df['days_ago'].dt.days #get just number of days"
   ]
  }
 ],
 "metadata": {
  "kernelspec": {
   "display_name": "Python 3 (ipykernel)",
   "language": "python",
   "name": "python3"
  },
  "language_info": {
   "codemirror_mode": {
    "name": "ipython",
    "version": 3
   },
   "file_extension": ".py",
   "mimetype": "text/x-python",
   "name": "python",
   "nbconvert_exporter": "python",
   "pygments_lexer": "ipython3",
   "version": "3.9.12"
  },
  "vscode": {
   "interpreter": {
    "hash": "63d17dc58a06b6a6d4136fb13c245dafcf53668da37b1c3052c24d689135f5bb"
   }
  }
 },
 "nbformat": 4,
 "nbformat_minor": 2
}
