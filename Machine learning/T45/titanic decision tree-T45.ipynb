{
 "cells": [
  {
   "cell_type": "code",
   "execution_count": 17,
   "id": "af6ba4f9",
   "metadata": {},
   "outputs": [],
   "source": [
    "#all into numeric, categorial into dummy\n",
    "#x is predictor\n",
    "#y is predicted\n",
    "\n",
    "import pandas as pd\n",
    "import numpy as np\n",
    "from sklearn.datasets import load_iris\n",
    "from sklearn.model_selection import train_test_split\n",
    "from sklearn.tree import DecisionTreeClassifier\n",
    "from sklearn import tree\n",
    "#from sklearn.metrics import confusion_matrix, f1_score, precision_score, recall_score\n",
    "\n",
    "# for visualisation\n",
    "import matplotlib.pyplot as plt\n",
    "from sklearn.tree import export_graphviz\n",
    "from IPython.display import Image  \n",
    "from subprocess import call\n",
    "\n",
    "df = pd.read_csv(\"titanic.csv\") #import dataset"
   ]
  },
  {
   "cell_type": "code",
   "execution_count": 18,
   "id": "08984b45",
   "metadata": {},
   "outputs": [
    {
     "data": {
      "text/html": [
       "<div>\n",
       "<style scoped>\n",
       "    .dataframe tbody tr th:only-of-type {\n",
       "        vertical-align: middle;\n",
       "    }\n",
       "\n",
       "    .dataframe tbody tr th {\n",
       "        vertical-align: top;\n",
       "    }\n",
       "\n",
       "    .dataframe thead th {\n",
       "        text-align: right;\n",
       "    }\n",
       "</style>\n",
       "<table border=\"1\" class=\"dataframe\">\n",
       "  <thead>\n",
       "    <tr style=\"text-align: right;\">\n",
       "      <th></th>\n",
       "      <th>Survived</th>\n",
       "      <th>Pclass</th>\n",
       "      <th>Sex</th>\n",
       "      <th>Age</th>\n",
       "      <th>SibSp</th>\n",
       "      <th>Parch</th>\n",
       "    </tr>\n",
       "  </thead>\n",
       "  <tbody>\n",
       "    <tr>\n",
       "      <th>0</th>\n",
       "      <td>0</td>\n",
       "      <td>3</td>\n",
       "      <td>male</td>\n",
       "      <td>22.0</td>\n",
       "      <td>1</td>\n",
       "      <td>0</td>\n",
       "    </tr>\n",
       "    <tr>\n",
       "      <th>1</th>\n",
       "      <td>1</td>\n",
       "      <td>1</td>\n",
       "      <td>female</td>\n",
       "      <td>38.0</td>\n",
       "      <td>1</td>\n",
       "      <td>0</td>\n",
       "    </tr>\n",
       "    <tr>\n",
       "      <th>2</th>\n",
       "      <td>1</td>\n",
       "      <td>3</td>\n",
       "      <td>female</td>\n",
       "      <td>26.0</td>\n",
       "      <td>0</td>\n",
       "      <td>0</td>\n",
       "    </tr>\n",
       "    <tr>\n",
       "      <th>3</th>\n",
       "      <td>1</td>\n",
       "      <td>1</td>\n",
       "      <td>female</td>\n",
       "      <td>35.0</td>\n",
       "      <td>1</td>\n",
       "      <td>0</td>\n",
       "    </tr>\n",
       "    <tr>\n",
       "      <th>4</th>\n",
       "      <td>0</td>\n",
       "      <td>3</td>\n",
       "      <td>male</td>\n",
       "      <td>35.0</td>\n",
       "      <td>0</td>\n",
       "      <td>0</td>\n",
       "    </tr>\n",
       "  </tbody>\n",
       "</table>\n",
       "</div>"
      ],
      "text/plain": [
       "   Survived  Pclass     Sex   Age  SibSp  Parch\n",
       "0         0       3    male  22.0      1      0\n",
       "1         1       1  female  38.0      1      0\n",
       "2         1       3  female  26.0      0      0\n",
       "3         1       1  female  35.0      1      0\n",
       "4         0       3    male  35.0      0      0"
      ]
     },
     "execution_count": 18,
     "metadata": {},
     "output_type": "execute_result"
    }
   ],
   "source": [
    "df=df.drop(columns=['PassengerId', 'Name', 'Ticket', 'Fare', 'Cabin', 'Embarked'])\n",
    "df.head()"
   ]
  },
  {
   "cell_type": "code",
   "execution_count": 19,
   "id": "1ef0a9bf",
   "metadata": {},
   "outputs": [
    {
     "data": {
      "text/plain": [
       "Survived      int64\n",
       "Pclass        int64\n",
       "Sex          object\n",
       "Age         float64\n",
       "SibSp         int64\n",
       "Parch         int64\n",
       "dtype: object"
      ]
     },
     "execution_count": 19,
     "metadata": {},
     "output_type": "execute_result"
    }
   ],
   "source": [
    "df.dtypes"
   ]
  },
  {
   "cell_type": "code",
   "execution_count": 20,
   "id": "39dee915",
   "metadata": {},
   "outputs": [],
   "source": [
    "df.loc[df[\"Sex\"] == \"male\", \"Sex\"] = 0\n",
    "df.loc[df[\"Sex\"] == \"female\", \"Sex\"] = 1"
   ]
  },
  {
   "cell_type": "code",
   "execution_count": 21,
   "id": "6c710e01",
   "metadata": {},
   "outputs": [],
   "source": [
    "df=df.dropna()"
   ]
  },
  {
   "cell_type": "code",
   "execution_count": 22,
   "id": "2e4d96c6",
   "metadata": {},
   "outputs": [],
   "source": [
    "x = df.iloc[:,1:6].values #iloc not inclusive of end\n",
    "y = df.iloc[:,0].values\n",
    "\n",
    "r = 4"
   ]
  },
  {
   "cell_type": "code",
   "execution_count": 23,
   "id": "e8ccb8fc",
   "metadata": {},
   "outputs": [
    {
     "data": {
      "text/plain": [
       "(714, 5)"
      ]
     },
     "execution_count": 23,
     "metadata": {},
     "output_type": "execute_result"
    }
   ],
   "source": [
    "x.shape"
   ]
  },
  {
   "cell_type": "code",
   "execution_count": 24,
   "id": "95d9d0be",
   "metadata": {},
   "outputs": [],
   "source": [
    "x_train, x_rest, y_train, y_rest = train_test_split(x, \n",
    "                y, test_size=0.25, random_state=r)"
   ]
  },
  {
   "cell_type": "code",
   "execution_count": 25,
   "id": "ca15d44e",
   "metadata": {},
   "outputs": [],
   "source": [
    "x_test, x_dev, y_test, y_dev = train_test_split(x, \n",
    "                y, test_size=0.50, random_state=r) #dev set takes 0.25/0.50 of the data"
   ]
  },
  {
   "cell_type": "code",
   "execution_count": 26,
   "id": "1fb9b4a3",
   "metadata": {},
   "outputs": [
    {
     "name": "stdout",
     "output_type": "stream",
     "text": [
      "Performance without pruning: 0.9467787114845938\n",
      "At depth: 20\n"
     ]
    }
   ],
   "source": [
    "# training a model without pruning\n",
    "unpruned = DecisionTreeClassifier(max_depth=None, random_state=r)\n",
    "unpruned.fit(x_train, y_train)\n",
    "print(\"Performance without pruning:\", unpruned.score(x_test, y_test))\n",
    "print(\"At depth:\", unpruned.tree_.max_depth)"
   ]
  },
  {
   "cell_type": "code",
   "execution_count": 27,
   "id": "174bb19c",
   "metadata": {},
   "outputs": [
    {
     "data": {
      "image/png": "[encoded data removed]",
      "text/plain": [
       "<Figure size 432x288 with 1 Axes>"
      ]
     },
     "metadata": {
      "needs_background": "light"
     },
     "output_type": "display_data"
    }
   ],
   "source": [
    "pruned_depths = range(2,11)\n",
    "score_train = []\n",
    "score_dev = []\n",
    "for d in pruned_depths:\n",
    "    clf = DecisionTreeClassifier(max_depth=d, random_state=r)\n",
    "    clf.fit(x_train, y_train)\n",
    "    score1 = clf.score(x_train, y_train)\n",
    "    score2 = clf.score(x_dev, y_dev)\n",
    "    score_train.append(score1)\n",
    "    score_dev.append(score2)\n",
    "\n",
    "fig, ax = plt.subplots()\n",
    "ax.plot(pruned_depths, score_train)\n",
    "ax.plot(pruned_depths, score_dev)\n",
    "plt.xlabel(\"Max_depth values\")\n",
    "plt.xlabel(\"Accuracy\")\n",
    "ax.xaxis.set_ticks(pruned_depths)\n",
    "plt.show()\n",
    "#overfitting as accuracies of training set climbs up but for development set it does not catch up, even start to fall before picking up but at a lower value , optimal depth at 4"
   ]
  },
  {
   "cell_type": "code",
   "execution_count": 28,
   "id": "26ddcc68",
   "metadata": {},
   "outputs": [],
   "source": [
    "# train the final Random Forest model, and fit it to the Training data\n",
    "clf = DecisionTreeClassifier(max_depth=4)\n",
    "clf.fit(x_train, y_train)\n",
    "\n",
    "# make predictions on the Test data\n",
    "y_pred = clf.predict(x_test).reshape(-1,1)"
   ]
  },
  {
   "cell_type": "code",
   "execution_count": 29,
   "id": "00784d19",
   "metadata": {},
   "outputs": [
    {
     "name": "stdout",
     "output_type": "stream",
     "text": [
      "Accuracy:\t 0.8263305322128851\n"
     ]
    }
   ],
   "source": [
    "print(\"Accuracy:\\t\", clf.score(x_test, y_test))"
   ]
  },
  {
   "cell_type": "code",
   "execution_count": 30,
   "id": "21aa7f54",
   "metadata": {},
   "outputs": [
    {
     "name": "stdout",
     "output_type": "stream",
     "text": [
      "Accuracy of random forest:\t 0.8263305322128851\n"
     ]
    },
    {
     "data": {
      "text/plain": [
       "1    0.532929\n",
       "0    0.230328\n",
       "2    0.148509\n",
       "3    0.056116\n",
       "4    0.032118\n",
       "dtype: float64"
      ]
     },
     "execution_count": 30,
     "metadata": {},
     "output_type": "execute_result"
    }
   ],
   "source": [
    "from sklearn.ensemble import RandomForestClassifier\n",
    "\n",
    "forest = RandomForestClassifier(max_depth=4, n_estimators=100, random_state=r)\n",
    "forest.fit(x_train, y_train)\n",
    "print(\"Accuracy of random forest:\\t\", clf.score(x_test, y_test))\n",
    "feature_imp = pd.Series(forest.feature_importances_).sort_values(ascending=False) #descending order\n",
    "feature_imp"
   ]
  },
  {
   "cell_type": "code",
   "execution_count": 31,
   "id": "78737c0b",
   "metadata": {},
   "outputs": [
    {
     "name": "stdout",
     "output_type": "stream",
     "text": [
      "Accuracy base: 0.7767441860465116\n"
     ]
    }
   ],
   "source": [
    "x = x[:, :3] #first three columns\n",
    "# retrain \n",
    "x_train, x_test, y_train, y_test = train_test_split(x, y, test_size=0.3) # 70% training and 30% test\n",
    "clf.fit(x_train,y_train)\n",
    "print(\"Accuracy base:\",clf.score(x_test, y_test))"
   ]
  },
  {
   "cell_type": "markdown",
   "id": "0f173122",
   "metadata": {},
   "source": [
    "Better accuracy when using all features"
   ]
  },
  {
   "cell_type": "code",
   "execution_count": 32,
   "id": "68ce85b8",
   "metadata": {},
   "outputs": [],
   "source": [
    "x = df.iloc[:,1:6].values"
   ]
  },
  {
   "cell_type": "code",
   "execution_count": 33,
   "id": "a11b6fa2",
   "metadata": {},
   "outputs": [
    {
     "data": {
      "text/plain": [
       "0.7627906976744186"
      ]
     },
     "execution_count": 33,
     "metadata": {},
     "output_type": "execute_result"
    }
   ],
   "source": [
    "from sklearn.ensemble import AdaBoostClassifier\n",
    "ensemble = AdaBoostClassifier(n_estimators=150, random_state=r)\n",
    "ensemble.fit(x_train, y_train)\n",
    "ensemble.predict(x_test)\n",
    "ensemble.score(x_test, y_test)"
   ]
  },
  {
   "cell_type": "code",
   "execution_count": 34,
   "id": "f8b691e2",
   "metadata": {},
   "outputs": [
    {
     "data": {
      "text/plain": [
       "0.7674418604651163"
      ]
     },
     "execution_count": 34,
     "metadata": {},
     "output_type": "execute_result"
    }
   ],
   "source": [
    "from sklearn.ensemble import BaggingClassifier\n",
    "ensemble = BaggingClassifier(base_estimator=clf, n_estimators=250, random_state=r) #n_estimators creates 250 decision trees, compiling their results and averaging out the results\n",
    "ensemble.fit(x_train,y_train)\n",
    "ensemble.predict(x_test)\n",
    "ensemble.score(x_test, y_test)"
   ]
  },
  {
   "cell_type": "markdown",
   "id": "f7661a77",
   "metadata": {},
   "source": [
    "n_estimators was manually inputted and various solutions were run. final n_estimators was chosen when resulting accuracy had the highest value for many n_estimators tried  "
   ]
  },
  {
   "cell_type": "code",
   "execution_count": null,
   "id": "266bc8b8",
   "metadata": {},
   "outputs": [],
   "source": []
  }
 ],
 "metadata": {
  "kernelspec": {
   "display_name": "Python 3 (ipykernel)",
   "language": "python",
   "name": "python3"
  },
  "language_info": {
   "codemirror_mode": {
    "name": "ipython",
    "version": 3
   },
   "file_extension": ".py",
   "mimetype": "text/x-python",
   "name": "python",
   "nbconvert_exporter": "python",
   "pygments_lexer": "ipython3",
   "version": "3.9.12"
  }
 },
 "nbformat": 4,
 "nbformat_minor": 5
}
