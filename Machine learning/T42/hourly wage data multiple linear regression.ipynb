{
 "cells": [
  {
   "cell_type": "code",
   "execution_count": 1,
   "id": "ee7698dc",
   "metadata": {},
   "outputs": [],
   "source": [
    "#Importing Libraries\n",
    "import numpy as np\n",
    "import pandas as pd\n",
    "import matplotlib.pyplot as plt\n",
    "from sklearn.linear_model import LinearRegression\n",
    "\n",
    "#Importing the dataset\n",
    "df = pd.read_csv(\"hourlywagedata.csv\")"
   ]
  },
  {
   "cell_type": "code",
   "execution_count": 2,
   "id": "6d65d813",
   "metadata": {},
   "outputs": [
    {
     "data": {
      "text/html": [
       "<div>\n",
       "<style scoped>\n",
       "    .dataframe tbody tr th:only-of-type {\n",
       "        vertical-align: middle;\n",
       "    }\n",
       "\n",
       "    .dataframe tbody tr th {\n",
       "        vertical-align: top;\n",
       "    }\n",
       "\n",
       "    .dataframe thead th {\n",
       "        text-align: right;\n",
       "    }\n",
       "</style>\n",
       "<table border=\"1\" class=\"dataframe\">\n",
       "  <thead>\n",
       "    <tr style=\"text-align: right;\">\n",
       "      <th></th>\n",
       "      <th>position</th>\n",
       "      <th>agerange</th>\n",
       "      <th>yrsscale</th>\n",
       "      <th>hourwage</th>\n",
       "    </tr>\n",
       "  </thead>\n",
       "  <tbody>\n",
       "    <tr>\n",
       "      <th>0</th>\n",
       "      <td>1</td>\n",
       "      <td>1</td>\n",
       "      <td>2</td>\n",
       "      <td>13.736234054538</td>\n",
       "    </tr>\n",
       "    <tr>\n",
       "      <th>1</th>\n",
       "      <td>0</td>\n",
       "      <td>1</td>\n",
       "      <td>2</td>\n",
       "      <td>16.4407309689108</td>\n",
       "    </tr>\n",
       "    <tr>\n",
       "      <th>2</th>\n",
       "      <td>0</td>\n",
       "      <td>1</td>\n",
       "      <td>3</td>\n",
       "      <td>21.3891077239505</td>\n",
       "    </tr>\n",
       "    <tr>\n",
       "      <th>3</th>\n",
       "      <td>1</td>\n",
       "      <td>1</td>\n",
       "      <td>1</td>\n",
       "      <td>11.377187468408</td>\n",
       "    </tr>\n",
       "    <tr>\n",
       "      <th>4</th>\n",
       "      <td>0</td>\n",
       "      <td>1</td>\n",
       "      <td>3</td>\n",
       "      <td>21.5607775454338</td>\n",
       "    </tr>\n",
       "    <tr>\n",
       "      <th>...</th>\n",
       "      <td>...</td>\n",
       "      <td>...</td>\n",
       "      <td>...</td>\n",
       "      <td>...</td>\n",
       "    </tr>\n",
       "    <tr>\n",
       "      <th>2995</th>\n",
       "      <td>0</td>\n",
       "      <td>3</td>\n",
       "      <td>4</td>\n",
       "      <td>20.4198852740072</td>\n",
       "    </tr>\n",
       "    <tr>\n",
       "      <th>2996</th>\n",
       "      <td>0</td>\n",
       "      <td>3</td>\n",
       "      <td>4</td>\n",
       "      <td>20.4414824085212</td>\n",
       "    </tr>\n",
       "    <tr>\n",
       "      <th>2997</th>\n",
       "      <td>1</td>\n",
       "      <td>3</td>\n",
       "      <td>4</td>\n",
       "      <td>18.4502340056492</td>\n",
       "    </tr>\n",
       "    <tr>\n",
       "      <th>2998</th>\n",
       "      <td>0</td>\n",
       "      <td>3</td>\n",
       "      <td>4</td>\n",
       "      <td>19.1444598024073</td>\n",
       "    </tr>\n",
       "    <tr>\n",
       "      <th>2999</th>\n",
       "      <td>0</td>\n",
       "      <td>3</td>\n",
       "      <td>3</td>\n",
       "      <td>13.638465988071</td>\n",
       "    </tr>\n",
       "  </tbody>\n",
       "</table>\n",
       "<p>2911 rows × 4 columns</p>\n",
       "</div>"
      ],
      "text/plain": [
       "      position  agerange  yrsscale          hourwage\n",
       "0            1         1         2   13.736234054538\n",
       "1            0         1         2  16.4407309689108\n",
       "2            0         1         3  21.3891077239505\n",
       "3            1         1         1   11.377187468408\n",
       "4            0         1         3  21.5607775454338\n",
       "...        ...       ...       ...               ...\n",
       "2995         0         3         4  20.4198852740072\n",
       "2996         0         3         4  20.4414824085212\n",
       "2997         1         3         4  18.4502340056492\n",
       "2998         0         3         4  19.1444598024073\n",
       "2999         0         3         3   13.638465988071\n",
       "\n",
       "[2911 rows x 4 columns]"
      ]
     },
     "execution_count": 2,
     "metadata": {},
     "output_type": "execute_result"
    }
   ],
   "source": [
    "import numpy as np\n",
    "df = df.replace(' ', np.nan)\n",
    "\n",
    "df=df.dropna() #drop rows with at least one NaN value\n",
    "df"
   ]
  },
  {
   "cell_type": "code",
   "execution_count": 3,
   "id": "76fa2ed6",
   "metadata": {},
   "outputs": [
    {
     "data": {
      "text/html": [
       "<div>\n",
       "<style scoped>\n",
       "    .dataframe tbody tr th:only-of-type {\n",
       "        vertical-align: middle;\n",
       "    }\n",
       "\n",
       "    .dataframe tbody tr th {\n",
       "        vertical-align: top;\n",
       "    }\n",
       "\n",
       "    .dataframe thead th {\n",
       "        text-align: right;\n",
       "    }\n",
       "</style>\n",
       "<table border=\"1\" class=\"dataframe\">\n",
       "  <thead>\n",
       "    <tr style=\"text-align: right;\">\n",
       "      <th></th>\n",
       "      <th>position</th>\n",
       "      <th>agerange</th>\n",
       "      <th>yrsscale</th>\n",
       "      <th>hourwage</th>\n",
       "    </tr>\n",
       "  </thead>\n",
       "  <tbody>\n",
       "    <tr>\n",
       "      <th>0</th>\n",
       "      <td>1</td>\n",
       "      <td>1</td>\n",
       "      <td>2</td>\n",
       "      <td>13.736234054538</td>\n",
       "    </tr>\n",
       "    <tr>\n",
       "      <th>1</th>\n",
       "      <td>0</td>\n",
       "      <td>1</td>\n",
       "      <td>2</td>\n",
       "      <td>16.4407309689108</td>\n",
       "    </tr>\n",
       "    <tr>\n",
       "      <th>2</th>\n",
       "      <td>0</td>\n",
       "      <td>1</td>\n",
       "      <td>3</td>\n",
       "      <td>21.3891077239505</td>\n",
       "    </tr>\n",
       "    <tr>\n",
       "      <th>3</th>\n",
       "      <td>1</td>\n",
       "      <td>1</td>\n",
       "      <td>1</td>\n",
       "      <td>11.377187468408</td>\n",
       "    </tr>\n",
       "    <tr>\n",
       "      <th>4</th>\n",
       "      <td>0</td>\n",
       "      <td>1</td>\n",
       "      <td>3</td>\n",
       "      <td>21.5607775454338</td>\n",
       "    </tr>\n",
       "    <tr>\n",
       "      <th>...</th>\n",
       "      <td>...</td>\n",
       "      <td>...</td>\n",
       "      <td>...</td>\n",
       "      <td>...</td>\n",
       "    </tr>\n",
       "    <tr>\n",
       "      <th>2995</th>\n",
       "      <td>0</td>\n",
       "      <td>3</td>\n",
       "      <td>4</td>\n",
       "      <td>20.4198852740072</td>\n",
       "    </tr>\n",
       "    <tr>\n",
       "      <th>2996</th>\n",
       "      <td>0</td>\n",
       "      <td>3</td>\n",
       "      <td>4</td>\n",
       "      <td>20.4414824085212</td>\n",
       "    </tr>\n",
       "    <tr>\n",
       "      <th>2997</th>\n",
       "      <td>1</td>\n",
       "      <td>3</td>\n",
       "      <td>4</td>\n",
       "      <td>18.4502340056492</td>\n",
       "    </tr>\n",
       "    <tr>\n",
       "      <th>2998</th>\n",
       "      <td>0</td>\n",
       "      <td>3</td>\n",
       "      <td>4</td>\n",
       "      <td>19.1444598024073</td>\n",
       "    </tr>\n",
       "    <tr>\n",
       "      <th>2999</th>\n",
       "      <td>0</td>\n",
       "      <td>3</td>\n",
       "      <td>3</td>\n",
       "      <td>13.638465988071</td>\n",
       "    </tr>\n",
       "  </tbody>\n",
       "</table>\n",
       "<p>2911 rows × 4 columns</p>\n",
       "</div>"
      ],
      "text/plain": [
       "      position  agerange  yrsscale          hourwage\n",
       "0            1         1         2   13.736234054538\n",
       "1            0         1         2  16.4407309689108\n",
       "2            0         1         3  21.3891077239505\n",
       "3            1         1         1   11.377187468408\n",
       "4            0         1         3  21.5607775454338\n",
       "...        ...       ...       ...               ...\n",
       "2995         0         3         4  20.4198852740072\n",
       "2996         0         3         4  20.4414824085212\n",
       "2997         1         3         4  18.4502340056492\n",
       "2998         0         3         4  19.1444598024073\n",
       "2999         0         3         3   13.638465988071\n",
       "\n",
       "[2911 rows x 4 columns]"
      ]
     },
     "execution_count": 3,
     "metadata": {},
     "output_type": "execute_result"
    }
   ],
   "source": [
    "# Replace infinite updated data with nan\n",
    "df.replace([np.inf, -np.inf], np.nan, inplace=True)\n",
    "# Drop rows with NaN\n",
    "df.dropna()"
   ]
  },
  {
   "cell_type": "code",
   "execution_count": 4,
   "id": "83835110",
   "metadata": {},
   "outputs": [
    {
     "data": {
      "text/plain": [
       "position    0\n",
       "agerange    0\n",
       "yrsscale    0\n",
       "hourwage    0\n",
       "dtype: int64"
      ]
     },
     "execution_count": 4,
     "metadata": {},
     "output_type": "execute_result"
    }
   ],
   "source": [
    "df.isna().sum()"
   ]
  },
  {
   "cell_type": "code",
   "execution_count": 5,
   "id": "1f059167",
   "metadata": {},
   "outputs": [
    {
     "data": {
      "text/plain": [
       "dtype('O')"
      ]
     },
     "execution_count": 5,
     "metadata": {},
     "output_type": "execute_result"
    }
   ],
   "source": [
    "df['hourwage'].dtype"
   ]
  },
  {
   "cell_type": "code",
   "execution_count": 6,
   "id": "6ec0ee12",
   "metadata": {},
   "outputs": [
    {
     "data": {
      "text/plain": [
       "0       13.736234\n",
       "1       16.440731\n",
       "2       21.389108\n",
       "3       11.377187\n",
       "4       21.560778\n",
       "          ...    \n",
       "2995    20.419885\n",
       "2996    20.441482\n",
       "2997    18.450234\n",
       "2998    19.144460\n",
       "2999    13.638466\n",
       "Name: hourwage, Length: 2911, dtype: float64"
      ]
     },
     "execution_count": 6,
     "metadata": {},
     "output_type": "execute_result"
    }
   ],
   "source": [
    "df['hourwage'].apply(pd.to_numeric)"
   ]
  },
  {
   "cell_type": "code",
   "execution_count": 7,
   "id": "60c8562c",
   "metadata": {},
   "outputs": [],
   "source": [
    "df['hourwage'] = df['hourwage'].astype(float)"
   ]
  },
  {
   "cell_type": "code",
   "execution_count": 8,
   "id": "52afabf4",
   "metadata": {},
   "outputs": [
    {
     "data": {
      "text/plain": [
       "position      int64\n",
       "agerange      int64\n",
       "yrsscale      int64\n",
       "hourwage    float64\n",
       "dtype: object"
      ]
     },
     "execution_count": 8,
     "metadata": {},
     "output_type": "execute_result"
    }
   ],
   "source": [
    "df.dtypes"
   ]
  },
  {
   "cell_type": "code",
   "execution_count": 9,
   "id": "8e8f9c63",
   "metadata": {},
   "outputs": [],
   "source": [
    "x1 = df.iloc[:,0].values"
   ]
  },
  {
   "cell_type": "code",
   "execution_count": 10,
   "id": "33061c5a",
   "metadata": {},
   "outputs": [],
   "source": [
    "y = df.iloc[:,3].values"
   ]
  },
  {
   "cell_type": "code",
   "execution_count": 11,
   "id": "ef84191b",
   "metadata": {},
   "outputs": [
    {
     "data": {
      "image/png": "[encoded data removed]",
      "text/plain": [
       "<Figure size 432x288 with 1 Axes>"
      ]
     },
     "metadata": {
      "needs_background": "light"
     },
     "output_type": "display_data"
    }
   ],
   "source": [
    "plt.scatter(x1,y,color = 'b')\n",
    "plt.title('position v/s hourwage')\n",
    "plt.xlabel('position')\n",
    "plt.ylabel('hourwage')\n",
    "plt.show()"
   ]
  },
  {
   "cell_type": "code",
   "execution_count": 12,
   "id": "26a55f90",
   "metadata": {},
   "outputs": [],
   "source": [
    "x = df.iloc[:,1].values\n",
    "x=x.reshape(-1, 1)"
   ]
  },
  {
   "cell_type": "code",
   "execution_count": 13,
   "id": "6bba32e5",
   "metadata": {},
   "outputs": [
    {
     "data": {
      "image/png": "[encoded data removed]",
      "text/plain": [
       "<Figure size 432x288 with 1 Axes>"
      ]
     },
     "metadata": {
      "needs_background": "light"
     },
     "output_type": "display_data"
    }
   ],
   "source": [
    "plt.scatter(x,y,color = 'b')\n",
    "plt.title('agerange v/s hourwage')\n",
    "plt.xlabel('agerange')\n",
    "plt.ylabel('hourwage')\n",
    "plt.show()"
   ]
  },
  {
   "cell_type": "code",
   "execution_count": 14,
   "id": "39e8c138",
   "metadata": {},
   "outputs": [],
   "source": [
    "x = df.iloc[:,2].values\n"
   ]
  },
  {
   "cell_type": "code",
   "execution_count": 15,
   "id": "bd689125",
   "metadata": {},
   "outputs": [
    {
     "data": {
      "image/png": "[encoded data removed]",
      "text/plain": [
       "<Figure size 432x288 with 1 Axes>"
      ]
     },
     "metadata": {
      "needs_background": "light"
     },
     "output_type": "display_data"
    }
   ],
   "source": [
    "plt.scatter(x,y,color = 'b')\n",
    "plt.title('yrsscale v/s hourwage')\n",
    "plt.xlabel('yrsscale')\n",
    "plt.ylabel('hourwage')\n",
    "plt.show()"
   ]
  },
  {
   "cell_type": "code",
   "execution_count": 17,
   "id": "2ba5383c",
   "metadata": {},
   "outputs": [],
   "source": [
    "from sklearn.model_selection import train_test_split\n",
    "\n",
    "x1_train, x1_test, y_train, y_test = train_test_split(x1,y,test_size = 0.2, random_state=1)"
   ]
  },
  {
   "cell_type": "code",
   "execution_count": 18,
   "id": "2ca056a1",
   "metadata": {},
   "outputs": [
    {
     "name": "stdout",
     "output_type": "stream",
     "text": [
      "Counter({0: 1554, 1: 774})\n",
      "Counter({0: 391, 1: 192})\n",
      "0.3324742268041237\n",
      "0.3293310463121784\n"
     ]
    }
   ],
   "source": [
    "from collections import Counter\n",
    "# counting uniques values \n",
    "counter1 = Counter(x1_train)\n",
    "counter2 = Counter(x1_test)\n",
    "print(counter1)\n",
    "print(counter2)\n",
    "p1 = counter1[1] / len(x1_train)\n",
    "print(p1)\n",
    "p2 = counter2[1] / len(x1_test)\n",
    "print(p2)\n",
    "\n",
    "#use x from position variale only\n",
    "#nurses noted with 1\n",
    "#counter[1] fetches the position at index 1\n",
    "#similar proportions"
   ]
  },
  {
   "cell_type": "code",
   "execution_count": 337,
   "id": "72aa8bde",
   "metadata": {},
   "outputs": [],
   "source": [
    "x = df.iloc[:,0:3].values\n",
    "y = df.iloc[:,3].values"
   ]
  },
  {
   "cell_type": "code",
   "execution_count": 338,
   "id": "5c70d13f",
   "metadata": {},
   "outputs": [
    {
     "data": {
      "text/plain": [
       "(2911, 1)"
      ]
     },
     "execution_count": 338,
     "metadata": {},
     "output_type": "execute_result"
    }
   ],
   "source": [
    "y=y.reshape(-1,1)\n",
    "y.shape"
   ]
  },
  {
   "cell_type": "code",
   "execution_count": 339,
   "id": "d1262d4f",
   "metadata": {},
   "outputs": [],
   "source": [
    "from sklearn.model_selection import train_test_split\n",
    "\n",
    "x_train, x_test, y_train, y_test = train_test_split(x,y,test_size = 0.2, random_state=1)"
   ]
  },
  {
   "cell_type": "code",
   "execution_count": 340,
   "id": "9ee14c44",
   "metadata": {},
   "outputs": [],
   "source": [
    "lm = LinearRegression()\n",
    "model = lm.fit(x_train, y_train)\n",
    "predictions = lm.predict(x_test)"
   ]
  },
  {
   "cell_type": "code",
   "execution_count": 341,
   "id": "56bb1c4a",
   "metadata": {},
   "outputs": [
    {
     "data": {
      "text/plain": [
       "(583, 1)"
      ]
     },
     "execution_count": 341,
     "metadata": {},
     "output_type": "execute_result"
    }
   ],
   "source": [
    "predictions.shape"
   ]
  },
  {
   "cell_type": "code",
   "execution_count": 342,
   "id": "86c36fce",
   "metadata": {},
   "outputs": [
    {
     "data": {
      "text/plain": [
       "(583, 1)"
      ]
     },
     "execution_count": 342,
     "metadata": {},
     "output_type": "execute_result"
    }
   ],
   "source": [
    "y_test.shape"
   ]
  },
  {
   "cell_type": "code",
   "execution_count": 343,
   "id": "71b7592a",
   "metadata": {},
   "outputs": [
    {
     "data": {
      "text/plain": [
       "<ErrorbarContainer object of 3 artists>"
      ]
     },
     "execution_count": 343,
     "metadata": {},
     "output_type": "execute_result"
    },
    {
     "data": {
      "image/png": "[encoded data removed]",
      "text/plain": [
       "<Figure size 432x288 with 1 Axes>"
      ]
     },
     "metadata": {
      "needs_background": "light"
     },
     "output_type": "display_data"
    }
   ],
   "source": [
    "plt.errorbar(range(0,20),y_test[0:20].squeeze(),yerr=abs(y_test[0:20]-predictions[0:20]).squeeze(),fmt='.k',ecolor=\"red\")\n",
    "#into range input how many observatios are in test dataset\n",
    "#range uses only 20 of errors and plots them\n",
    "#abs gives absolute value\n",
    "#squeeze converts into dimension python can work with"
   ]
  },
  {
   "cell_type": "code",
   "execution_count": 344,
   "id": "ba7f7f60",
   "metadata": {},
   "outputs": [],
   "source": [
    "from sklearn.metrics import mean_squared_error\n",
    "# compute the root-mean-square\n",
    "rms = np.sqrt(mean_squared_error(y_test, predictions))"
   ]
  },
  {
   "cell_type": "code",
   "execution_count": 345,
   "id": "74a4ee6c",
   "metadata": {},
   "outputs": [
    {
     "data": {
      "text/plain": [
       "array([[-2.08185742, -0.16741086,  0.75110973]])"
      ]
     },
     "execution_count": 345,
     "metadata": {},
     "output_type": "execute_result"
    }
   ],
   "source": [
    "model.coef_ #one coefficient affecting predicted for each predictor variable "
   ]
  },
  {
   "cell_type": "code",
   "execution_count": null,
   "id": "1c1fc236",
   "metadata": {},
   "outputs": [],
   "source": []
  }
 ],
 "metadata": {
  "kernelspec": {
   "display_name": "Python 3 (ipykernel)",
   "language": "python",
   "name": "python3"
  },
  "language_info": {
   "codemirror_mode": {
    "name": "ipython",
    "version": 3
   },
   "file_extension": ".py",
   "mimetype": "text/x-python",
   "name": "python",
   "nbconvert_exporter": "python",
   "pygments_lexer": "ipython3",
   "version": "3.9.12"
  }
 },
 "nbformat": 4,
 "nbformat_minor": 5
}
