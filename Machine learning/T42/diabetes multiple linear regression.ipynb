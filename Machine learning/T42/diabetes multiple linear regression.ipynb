{
 "cells": [
  {
   "cell_type": "code",
   "execution_count": 58,
   "id": "a3d153bd",
   "metadata": {},
   "outputs": [
    {
     "data": {
      "text/html": [
       "<div>\n",
       "<style scoped>\n",
       "    .dataframe tbody tr th:only-of-type {\n",
       "        vertical-align: middle;\n",
       "    }\n",
       "\n",
       "    .dataframe tbody tr th {\n",
       "        vertical-align: top;\n",
       "    }\n",
       "\n",
       "    .dataframe thead th {\n",
       "        text-align: right;\n",
       "    }\n",
       "</style>\n",
       "<table border=\"1\" class=\"dataframe\">\n",
       "  <thead>\n",
       "    <tr style=\"text-align: right;\">\n",
       "      <th></th>\n",
       "      <th>Pregnancies</th>\n",
       "      <th>Glucose</th>\n",
       "      <th>BloodPressure</th>\n",
       "      <th>SkinThickness</th>\n",
       "      <th>Insulin</th>\n",
       "      <th>BMI</th>\n",
       "      <th>DiabetesPedigreeFunction</th>\n",
       "      <th>Age</th>\n",
       "      <th>Outcome</th>\n",
       "    </tr>\n",
       "  </thead>\n",
       "  <tbody>\n",
       "    <tr>\n",
       "      <th>0</th>\n",
       "      <td>6</td>\n",
       "      <td>148</td>\n",
       "      <td>72</td>\n",
       "      <td>35</td>\n",
       "      <td>0</td>\n",
       "      <td>33.6</td>\n",
       "      <td>0.627</td>\n",
       "      <td>50</td>\n",
       "      <td>1</td>\n",
       "    </tr>\n",
       "    <tr>\n",
       "      <th>1</th>\n",
       "      <td>1</td>\n",
       "      <td>85</td>\n",
       "      <td>66</td>\n",
       "      <td>29</td>\n",
       "      <td>0</td>\n",
       "      <td>26.6</td>\n",
       "      <td>0.351</td>\n",
       "      <td>31</td>\n",
       "      <td>0</td>\n",
       "    </tr>\n",
       "    <tr>\n",
       "      <th>2</th>\n",
       "      <td>8</td>\n",
       "      <td>183</td>\n",
       "      <td>64</td>\n",
       "      <td>0</td>\n",
       "      <td>0</td>\n",
       "      <td>23.3</td>\n",
       "      <td>0.672</td>\n",
       "      <td>32</td>\n",
       "      <td>1</td>\n",
       "    </tr>\n",
       "    <tr>\n",
       "      <th>3</th>\n",
       "      <td>1</td>\n",
       "      <td>89</td>\n",
       "      <td>66</td>\n",
       "      <td>23</td>\n",
       "      <td>94</td>\n",
       "      <td>28.1</td>\n",
       "      <td>0.167</td>\n",
       "      <td>21</td>\n",
       "      <td>0</td>\n",
       "    </tr>\n",
       "    <tr>\n",
       "      <th>4</th>\n",
       "      <td>0</td>\n",
       "      <td>137</td>\n",
       "      <td>40</td>\n",
       "      <td>35</td>\n",
       "      <td>168</td>\n",
       "      <td>43.1</td>\n",
       "      <td>2.288</td>\n",
       "      <td>33</td>\n",
       "      <td>1</td>\n",
       "    </tr>\n",
       "  </tbody>\n",
       "</table>\n",
       "</div>"
      ],
      "text/plain": [
       "   Pregnancies  Glucose  BloodPressure  SkinThickness  Insulin   BMI  \\\n",
       "0            6      148             72             35        0  33.6   \n",
       "1            1       85             66             29        0  26.6   \n",
       "2            8      183             64              0        0  23.3   \n",
       "3            1       89             66             23       94  28.1   \n",
       "4            0      137             40             35      168  43.1   \n",
       "\n",
       "   DiabetesPedigreeFunction  Age  Outcome  \n",
       "0                     0.627   50        1  \n",
       "1                     0.351   31        0  \n",
       "2                     0.672   32        1  \n",
       "3                     0.167   21        0  \n",
       "4                     2.288   33        1  "
      ]
     },
     "execution_count": 58,
     "metadata": {},
     "output_type": "execute_result"
    }
   ],
   "source": [
    "#Importing Libraries\n",
    "import numpy as np\n",
    "import pandas as pd\n",
    "import matplotlib.pyplot as plt\n",
    "from sklearn.linear_model import LinearRegression\n",
    "\n",
    "#Importing the dataset\n",
    "df = pd.read_csv(\"diabetes.csv\")\n",
    "df.head()"
   ]
  },
  {
   "cell_type": "code",
   "execution_count": 59,
   "id": "9869a520",
   "metadata": {},
   "outputs": [],
   "source": [
    "#outcome is dependent variable, rest are independent\n",
    "x = df.iloc[:,0:8].values\n",
    "y = df.iloc[:,8].values"
   ]
  },
  {
   "cell_type": "code",
   "execution_count": 60,
   "id": "d052f1d5",
   "metadata": {},
   "outputs": [
    {
     "data": {
      "text/plain": [
       "(768, 8)"
      ]
     },
     "execution_count": 60,
     "metadata": {},
     "output_type": "execute_result"
    }
   ],
   "source": [
    "x.shape"
   ]
  },
  {
   "cell_type": "code",
   "execution_count": 61,
   "id": "4df96f2d",
   "metadata": {},
   "outputs": [
    {
     "data": {
      "text/plain": [
       "(768,)"
      ]
     },
     "execution_count": 61,
     "metadata": {},
     "output_type": "execute_result"
    }
   ],
   "source": [
    "y.shape"
   ]
  },
  {
   "cell_type": "code",
   "execution_count": 62,
   "id": "ad8205b1",
   "metadata": {},
   "outputs": [
    {
     "data": {
      "text/plain": [
       "(768, 1)"
      ]
     },
     "execution_count": 62,
     "metadata": {},
     "output_type": "execute_result"
    }
   ],
   "source": [
    "y=y.reshape(-1,1)\n",
    "y.shape"
   ]
  },
  {
   "cell_type": "code",
   "execution_count": 63,
   "id": "1af76caa",
   "metadata": {},
   "outputs": [
    {
     "name": "stdout",
     "output_type": "stream",
     "text": [
      "Training data: (614, 8) (614, 1)\n",
      "Test data: (154, 8) (154, 1)\n"
     ]
    }
   ],
   "source": [
    "from sklearn.model_selection import train_test_split\n",
    "\n",
    "x_train, x_test, y_train, y_test = train_test_split(x,y,test_size = 0.20) #80% train 20% test data\n",
    "\n",
    "print (\"Training data:\",x_train.shape, y_train.shape)\n",
    "print (\"Test data:\",x_test.shape, y_test.shape)"
   ]
  },
  {
   "cell_type": "code",
   "execution_count": 64,
   "id": "6734854b",
   "metadata": {},
   "outputs": [],
   "source": [
    "#normalization\n",
    "from numpy import asarray\n",
    "from sklearn.preprocessing import MinMaxScaler\n",
    "# define min max scaler\n",
    "normalised = MinMaxScaler()\n",
    "# transform data\n",
    "x_train_normalised = normalised.fit_transform(x_train)"
   ]
  },
  {
   "cell_type": "code",
   "execution_count": 65,
   "id": "a0435376",
   "metadata": {},
   "outputs": [
    {
     "name": "stdout",
     "output_type": "stream",
     "text": [
      "Intercept: \n",
      " [-0.77607668]\n",
      "Coefficients: \n",
      " [[ 0.3489921   1.15406529 -0.27516313  0.01162359 -0.11140109  0.86012222\n",
      "   0.35871578  0.23918162]]\n"
     ]
    }
   ],
   "source": [
    "lm = LinearRegression()\n",
    "model = lm.fit(x_train_normalised, y_train)\n",
    "print('Intercept: \\n', model.intercept_)\n",
    "print('Coefficients: \\n', model.coef_)"
   ]
  },
  {
   "cell_type": "code",
   "execution_count": 66,
   "id": "4da5207c",
   "metadata": {},
   "outputs": [],
   "source": [
    "x_test_normalised = normalised.transform(x_test)"
   ]
  },
  {
   "cell_type": "code",
   "execution_count": 67,
   "id": "c735b52f",
   "metadata": {},
   "outputs": [],
   "source": [
    "predictions = lm.predict(x_test_normalised)"
   ]
  },
  {
   "cell_type": "code",
   "execution_count": 68,
   "id": "1b11c599",
   "metadata": {},
   "outputs": [
    {
     "data": {
      "text/plain": [
       "array([[ 3.43984973e-01],\n",
       "       [ 6.19626079e-01],\n",
       "       [ 2.91441101e-01],\n",
       "       [ 1.01198138e+00],\n",
       "       [ 3.13054294e-02],\n",
       "       [ 4.94695774e-01],\n",
       "       [ 6.20949458e-01],\n",
       "       [ 7.20722238e-01],\n",
       "       [ 2.99275295e-01],\n",
       "       [ 7.83252445e-01],\n",
       "       [ 4.68836858e-01],\n",
       "       [ 1.94776467e-01],\n",
       "       [ 4.35313465e-01],\n",
       "       [ 6.56563554e-01],\n",
       "       [ 1.98925226e-01],\n",
       "       [ 6.52687093e-01],\n",
       "       [ 4.14512852e-03],\n",
       "       [ 8.11680704e-01],\n",
       "       [ 3.17492604e-01],\n",
       "       [ 1.49309611e-01],\n",
       "       [ 4.40867848e-01],\n",
       "       [ 5.73196073e-01],\n",
       "       [ 5.41157550e-01],\n",
       "       [ 4.63745479e-01],\n",
       "       [ 8.44662901e-02],\n",
       "       [ 5.00581820e-01],\n",
       "       [ 4.18533239e-01],\n",
       "       [ 1.91577307e-01],\n",
       "       [ 3.52852247e-01],\n",
       "       [ 3.27576903e-01],\n",
       "       [ 2.84134551e-01],\n",
       "       [ 2.36932662e-01],\n",
       "       [ 1.05538264e+00],\n",
       "       [ 6.36444660e-01],\n",
       "       [ 1.27140828e-01],\n",
       "       [-2.98206527e-01],\n",
       "       [ 4.40192929e-01],\n",
       "       [ 3.71875638e-01],\n",
       "       [ 3.89431960e-01],\n",
       "       [ 5.24660979e-01],\n",
       "       [ 1.94459382e-02],\n",
       "       [ 1.75417486e-01],\n",
       "       [ 5.35560829e-01],\n",
       "       [ 2.33767567e-01],\n",
       "       [ 6.87155786e-01],\n",
       "       [ 2.44962721e-01],\n",
       "       [ 1.22027629e-01],\n",
       "       [ 3.80961967e-01],\n",
       "       [ 3.37294196e-01],\n",
       "       [ 9.75232228e-02],\n",
       "       [ 9.12143763e-01],\n",
       "       [ 7.38935411e-01],\n",
       "       [ 3.58019221e-01],\n",
       "       [ 6.58060423e-01],\n",
       "       [ 1.65186809e-03],\n",
       "       [ 2.41629962e-01],\n",
       "       [ 1.03265260e+00],\n",
       "       [-6.16816235e-02],\n",
       "       [ 1.89534572e-01],\n",
       "       [ 6.58484573e-01],\n",
       "       [ 3.07928138e-01],\n",
       "       [ 1.29978538e-01],\n",
       "       [ 8.44949835e-02],\n",
       "       [-6.18459450e-02],\n",
       "       [ 6.63636473e-01],\n",
       "       [ 3.12006948e-01],\n",
       "       [ 6.66113781e-01],\n",
       "       [ 1.92945422e-01],\n",
       "       [ 5.93057922e-01],\n",
       "       [ 1.99395499e-01],\n",
       "       [ 2.42061558e-02],\n",
       "       [ 5.76810075e-01],\n",
       "       [ 4.63373780e-01],\n",
       "       [ 6.33048638e-01],\n",
       "       [ 1.44134665e-01],\n",
       "       [ 6.50209855e-01],\n",
       "       [ 2.88011138e-01],\n",
       "       [ 1.04765410e-01],\n",
       "       [ 4.69253956e-01],\n",
       "       [ 7.78020217e-02],\n",
       "       [ 4.87817923e-01],\n",
       "       [ 2.10363396e-01],\n",
       "       [ 2.43181562e-01],\n",
       "       [ 1.00090164e+00],\n",
       "       [ 2.02282001e-01],\n",
       "       [ 3.92147949e-01],\n",
       "       [ 2.22338291e-01],\n",
       "       [ 3.00366167e-01],\n",
       "       [ 3.35548372e-01],\n",
       "       [ 1.53739990e-01],\n",
       "       [-5.46335462e-01],\n",
       "       [ 2.97769040e-01],\n",
       "       [ 1.92942863e-01],\n",
       "       [ 2.91902389e-01],\n",
       "       [ 6.90585625e-01],\n",
       "       [ 5.16569728e-01],\n",
       "       [ 3.57742194e-01],\n",
       "       [ 6.26051785e-01],\n",
       "       [ 2.37730354e-01],\n",
       "       [ 7.10599210e-01],\n",
       "       [-4.41402187e-02],\n",
       "       [ 4.42872334e-01],\n",
       "       [ 6.08268065e-01],\n",
       "       [ 1.67389763e-01],\n",
       "       [ 2.14407714e-01],\n",
       "       [ 3.60260393e-01],\n",
       "       [ 3.28304662e-01],\n",
       "       [ 6.43638394e-01],\n",
       "       [-6.89102589e-02],\n",
       "       [ 7.09662909e-02],\n",
       "       [ 2.65987830e-01],\n",
       "       [ 2.92830861e-01],\n",
       "       [ 1.56955981e-01],\n",
       "       [ 9.26235086e-01],\n",
       "       [ 3.13891441e-01],\n",
       "       [ 6.59843429e-01],\n",
       "       [ 2.06400203e-01],\n",
       "       [ 1.69449342e-01],\n",
       "       [ 1.09393934e-01],\n",
       "       [ 8.25743952e-02],\n",
       "       [ 7.28455646e-01],\n",
       "       [ 5.08119752e-01],\n",
       "       [ 2.58259649e-01],\n",
       "       [-1.42300284e-01],\n",
       "       [-8.70602497e-02],\n",
       "       [ 9.21087399e-01],\n",
       "       [ 4.46185510e-01],\n",
       "       [ 1.22145547e-01],\n",
       "       [ 4.79600962e-01],\n",
       "       [ 1.15535034e-01],\n",
       "       [ 3.26134215e-01],\n",
       "       [ 4.45904553e-02],\n",
       "       [ 3.50971149e-01],\n",
       "       [ 7.81997500e-01],\n",
       "       [ 7.60375676e-01],\n",
       "       [ 7.21666365e-01],\n",
       "       [ 2.72249712e-01],\n",
       "       [-1.62474222e-01],\n",
       "       [ 5.21144640e-01],\n",
       "       [ 1.96285604e-01],\n",
       "       [ 4.54601439e-01],\n",
       "       [ 3.39901688e-01],\n",
       "       [-1.30844544e-01],\n",
       "       [ 2.51809973e-01],\n",
       "       [ 1.80465531e-01],\n",
       "       [ 4.08338539e-01],\n",
       "       [ 8.50424707e-01],\n",
       "       [ 4.58195793e-01],\n",
       "       [ 1.81983718e-01],\n",
       "       [ 1.54694514e-01],\n",
       "       [-1.94144888e-02],\n",
       "       [-1.04804498e-04],\n",
       "       [ 2.99162042e-01],\n",
       "       [ 1.04627461e-01]])"
      ]
     },
     "execution_count": 68,
     "metadata": {},
     "output_type": "execute_result"
    }
   ],
   "source": [
    "predictions"
   ]
  },
  {
   "cell_type": "code",
   "execution_count": 71,
   "id": "2b968bd9",
   "metadata": {},
   "outputs": [
    {
     "name": "stdout",
     "output_type": "stream",
     "text": [
      "[0 1 0 1 0 0 1 1 0 1 0 0 0 1 0 1 0 1 0 0 0 1 1 0 0 1 0 0 0 0 0 0 1 1 0 0 0\n",
      " 0 0 1 0 0 1 0 1 0 0 0 0 0 1 1 0 1 0 0 1 0 0 1 0 0 0 0 1 0 1 0 1 0 0 1 0 1\n",
      " 0 1 0 0 0 0 0 0 0 1 0 0 0 0 0 0 0 0 0 0 1 1 0 1 0 1 0 0 1 0 0 0 0 1 0 0 0\n",
      " 0 0 1 0 1 0 0 0 0 1 1 0 0 0 1 0 0 0 0 0 0 0 1 1 1 0 0 1 0 0 0 0 0 0 0 1 0\n",
      " 0 0 0 0 0 0]\n"
     ]
    }
   ],
   "source": [
    "the_array = predictions\n",
    " \n",
    "an_array = np.asarray([0 if val < 0.5 else 1 for val in the_array])\n",
    "print(an_array)"
   ]
  },
  {
   "cell_type": "code",
   "execution_count": 82,
   "id": "0baf1e05",
   "metadata": {},
   "outputs": [],
   "source": [
    "an_array=an_array.reshape(-1,1)"
   ]
  },
  {
   "cell_type": "code",
   "execution_count": 83,
   "id": "6d95e338",
   "metadata": {},
   "outputs": [
    {
     "data": {
      "text/plain": [
       "(154, 1)"
      ]
     },
     "execution_count": 83,
     "metadata": {},
     "output_type": "execute_result"
    }
   ],
   "source": [
    "y_test.shape"
   ]
  },
  {
   "cell_type": "code",
   "execution_count": 84,
   "id": "dc503e79",
   "metadata": {},
   "outputs": [
    {
     "data": {
      "text/plain": [
       "0.7532467532467533"
      ]
     },
     "execution_count": 84,
     "metadata": {},
     "output_type": "execute_result"
    }
   ],
   "source": [
    "from sklearn.metrics import accuracy_score\n",
    "y_pred=an_array\n",
    "y_true=y_test\n",
    "accuracy_score(y_true, y_pred)"
   ]
  },
  {
   "cell_type": "code",
   "execution_count": 75,
   "id": "6bd37120",
   "metadata": {},
   "outputs": [
    {
     "data": {
      "text/plain": [
       "dtype('int64')"
      ]
     },
     "execution_count": 75,
     "metadata": {},
     "output_type": "execute_result"
    }
   ],
   "source": [
    "y_test.dtype"
   ]
  },
  {
   "cell_type": "code",
   "execution_count": 76,
   "id": "828a12fe",
   "metadata": {},
   "outputs": [],
   "source": [
    "#standardisation\n",
    "from numpy import asarray\n",
    "from sklearn.preprocessing import StandardScaler\n",
    "# define standard scaler\n",
    "standardised = StandardScaler()\n",
    "# transform data\n",
    "x_train_standardised = standardised.fit_transform(x_train)"
   ]
  },
  {
   "cell_type": "code",
   "execution_count": 77,
   "id": "84c8e78f",
   "metadata": {},
   "outputs": [],
   "source": [
    "x_test_standardised = standardised.transform(x_test)"
   ]
  },
  {
   "cell_type": "code",
   "execution_count": 78,
   "id": "a6867e6e",
   "metadata": {},
   "outputs": [
    {
     "name": "stdout",
     "output_type": "stream",
     "text": [
      "Intercept: \n",
      " [0.34527687]\n",
      "Coefficients: \n",
      " [[ 0.07017167  0.18468476 -0.04573063  0.00189718 -0.01709704  0.10202096\n",
      "   0.05125104  0.04664621]]\n"
     ]
    }
   ],
   "source": [
    "lm = LinearRegression()\n",
    "model = lm.fit(x_train_standardised, y_train)\n",
    "print('Intercept: \\n', model.intercept_)\n",
    "print('Coefficients: \\n', model.coef_)"
   ]
  },
  {
   "cell_type": "code",
   "execution_count": 85,
   "id": "589a06e0",
   "metadata": {},
   "outputs": [],
   "source": [
    "predictions = lm.predict(x_test_standardised)"
   ]
  },
  {
   "cell_type": "code",
   "execution_count": 86,
   "id": "220c6327",
   "metadata": {},
   "outputs": [
    {
     "name": "stdout",
     "output_type": "stream",
     "text": [
      "[0 1 0 1 0 0 1 1 0 1 0 0 0 1 0 1 0 1 0 0 0 1 1 0 0 1 0 0 0 0 0 0 1 1 0 0 0\n",
      " 0 0 1 0 0 1 0 1 0 0 0 0 0 1 1 0 1 0 0 1 0 0 1 0 0 0 0 1 0 1 0 1 0 0 1 0 1\n",
      " 0 1 0 0 0 0 0 0 0 1 0 0 0 0 0 0 0 0 0 0 1 1 0 1 0 1 0 0 1 0 0 0 0 1 0 0 0\n",
      " 0 0 1 0 1 0 0 0 0 1 1 0 0 0 1 0 0 0 0 0 0 0 1 1 1 0 0 1 0 0 0 0 0 0 0 1 0\n",
      " 0 0 0 0 0 0]\n"
     ]
    }
   ],
   "source": [
    "the_array = predictions\n",
    " \n",
    "an_array = np.asarray([0 if val < 0.5 else 1 for val in the_array])\n",
    "print(an_array)"
   ]
  },
  {
   "cell_type": "code",
   "execution_count": 87,
   "id": "e465ed2c",
   "metadata": {},
   "outputs": [],
   "source": [
    "an_array=an_array.reshape(-1,1)"
   ]
  },
  {
   "cell_type": "code",
   "execution_count": 88,
   "id": "848e29da",
   "metadata": {},
   "outputs": [
    {
     "data": {
      "text/plain": [
       "(154, 1)"
      ]
     },
     "execution_count": 88,
     "metadata": {},
     "output_type": "execute_result"
    }
   ],
   "source": [
    "y_test.shape"
   ]
  },
  {
   "cell_type": "code",
   "execution_count": 89,
   "id": "de061668",
   "metadata": {},
   "outputs": [
    {
     "data": {
      "text/plain": [
       "0.7532467532467533"
      ]
     },
     "execution_count": 89,
     "metadata": {},
     "output_type": "execute_result"
    }
   ],
   "source": [
    "from sklearn.metrics import accuracy_score\n",
    "y_pred=an_array\n",
    "y_true=y_test\n",
    "accuracy_score(y_true, y_pred)"
   ]
  }
 ],
 "metadata": {
  "kernelspec": {
   "display_name": "Python 3 (ipykernel)",
   "language": "python",
   "name": "python3"
  },
  "language_info": {
   "codemirror_mode": {
    "name": "ipython",
    "version": 3
   },
   "file_extension": ".py",
   "mimetype": "text/x-python",
   "name": "python",
   "nbconvert_exporter": "python",
   "pygments_lexer": "ipython3",
   "version": "3.9.12"
  }
 },
 "nbformat": 4,
 "nbformat_minor": 5
}
