{
 "cells": [
  {
   "cell_type": "code",
   "execution_count": 22,
   "id": "9ce5c84a",
   "metadata": {},
   "outputs": [],
   "source": [
    "import pandas as pd\n",
    "import matplotlib.pyplot as plt\n",
    "import seaborn as sns\n",
    "\n",
    "titanic = pd.read_csv('Titanic.csv')"
   ]
  },
  {
   "cell_type": "code",
   "execution_count": 23,
   "id": "dc143565",
   "metadata": {},
   "outputs": [
    {
     "data": {
      "text/plain": [
       "PassengerId      0\n",
       "Survived         0\n",
       "Pclass           0\n",
       "Name             0\n",
       "Sex              0\n",
       "Age            177\n",
       "SibSp            0\n",
       "Parch            0\n",
       "Ticket           0\n",
       "Fare             0\n",
       "Cabin          687\n",
       "Embarked         2\n",
       "dtype: int64"
      ]
     },
     "execution_count": 23,
     "metadata": {},
     "output_type": "execute_result"
    }
   ],
   "source": [
    "titanic.isnull().sum() #sum of null values for each column"
   ]
  },
  {
   "cell_type": "code",
   "execution_count": 24,
   "id": "4f4fc84c",
   "metadata": {},
   "outputs": [
    {
     "data": {
      "text/plain": [
       "Sex\n",
       "female    0.742038\n",
       "male      0.188908\n",
       "Name: Survived, dtype: float64"
      ]
     },
     "execution_count": 24,
     "metadata": {},
     "output_type": "execute_result"
    }
   ],
   "source": [
    "titanic.groupby('Sex')['Survived'].mean() #Survived (both 0 and 1 values included) grouped by Sex then mean taken for each group, higher survival rate for female"
   ]
  },
  {
   "cell_type": "code",
   "execution_count": 25,
   "id": "91aaeb8c",
   "metadata": {},
   "outputs": [
    {
     "data": {
      "text/plain": [
       "Pclass\n",
       "1    0.629630\n",
       "2    0.472826\n",
       "3    0.242363\n",
       "Name: Survived, dtype: float64"
      ]
     },
     "execution_count": 25,
     "metadata": {},
     "output_type": "execute_result"
    }
   ],
   "source": [
    "titanic.groupby('Pclass')['Survived'].mean() #higher survival rate for first class ticket"
   ]
  },
  {
   "cell_type": "code",
   "execution_count": 26,
   "id": "c817a50a",
   "metadata": {},
   "outputs": [
    {
     "data": {
      "text/plain": [
       "Embarked\n",
       "C    0.553571\n",
       "Q    0.389610\n",
       "S    0.336957\n",
       "Name: Survived, dtype: float64"
      ]
     },
     "execution_count": 26,
     "metadata": {},
     "output_type": "execute_result"
    }
   ],
   "source": [
    "titanic.groupby('Embarked')['Survived'].mean() #higher survival rate for those embarked from port C"
   ]
  },
  {
   "cell_type": "code",
   "execution_count": 27,
   "id": "23a7feb0",
   "metadata": {},
   "outputs": [
    {
     "data": {
      "text/plain": [
       "Is_child\n",
       "False    0.362832\n",
       "True     0.550000\n",
       "Name: Survived, dtype: float64"
      ]
     },
     "execution_count": 27,
     "metadata": {},
     "output_type": "execute_result"
    }
   ],
   "source": [
    "import numpy as np\n",
    "titanic['Is_child'] = np.where(titanic['Age'] <= 16, True, False) #create new column in dataframe with values True if Age is less or equal than 16, else False \n",
    "titanic.groupby('Is_child')['Survived'].mean() #higher survuval rate for children"
   ]
  },
  {
   "cell_type": "code",
   "execution_count": 28,
   "id": "74fbfbae",
   "metadata": {},
   "outputs": [],
   "source": [
    "#no data about who was given permission on lifeboat"
   ]
  },
  {
   "cell_type": "code",
   "execution_count": 29,
   "id": "4b46a6bf",
   "metadata": {},
   "outputs": [
    {
     "data": {
      "text/plain": [
       "Family_onboard\n",
       "False    0.345395\n",
       "True     0.466431\n",
       "Name: Survived, dtype: float64"
      ]
     },
     "execution_count": 29,
     "metadata": {},
     "output_type": "execute_result"
    }
   ],
   "source": [
    "titanic['Family_onboard'] = np.where(titanic['SibSp'] > 0, True, False) #create new column with values True if SibSp >0, else False\n",
    "titanic.groupby('Family_onboard')['Survived'].mean() #slightly higher survival rate for those who had siblings or spouses on board"
   ]
  },
  {
   "cell_type": "code",
   "execution_count": 30,
   "id": "a8d7d565",
   "metadata": {},
   "outputs": [
    {
     "data": {
      "text/plain": [
       "Text(0.5, 1.0, 'Survivors by Gender by Age groups')"
      ]
     },
     "execution_count": 30,
     "metadata": {},
     "output_type": "execute_result"
    },
    {
     "data": {
      "image/png": "[encoded data removed]",
      "text/plain": [
       "<Figure size 432x288 with 1 Axes>"
      ]
     },
     "metadata": {
      "needs_background": "light"
     },
     "output_type": "display_data"
    }
   ],
   "source": [
    "def age_group(age): #create age group intervals\n",
    "    if 80 <= age <= 89:\n",
    "        return '80-89'\n",
    "    elif 70 <= age <= 79:\n",
    "        return '70-79'\n",
    "    elif 60 <= age <= 69:\n",
    "        return '60-69'\n",
    "    elif 50 <= age <= 59:\n",
    "        return '50-59'\n",
    "    elif 40 <= age <= 49:\n",
    "        return '40-49'\n",
    "    elif 30 <= age <= 39:\n",
    "        return '30-39'\n",
    "    elif 20 <= age <= 29:\n",
    "        return '20-29'\n",
    "    elif 10 <= age <= 19:\n",
    "        return '10-19'\n",
    "    elif 0 <= age <= 9:\n",
    "        return '0-9'\n",
    "\n",
    "titanic['AgeGroup'] = titanic.Age.apply(age_group) #create new column in dataframe\n",
    "\n",
    "import seaborn as sns\n",
    "ax=sns.barplot(x='AgeGroup', y='Survived', data=titanic.sort_values(by='AgeGroup'), hue='Sex') #plot Survivors by gender and by age group \n",
    "\n",
    "ax.set_title('Survivors by Gender by Age groups')"
   ]
  },
  {
   "cell_type": "code",
   "execution_count": 32,
   "id": "28d1840b",
   "metadata": {},
   "outputs": [
    {
     "data": {
      "text/html": [
       "<div>\n",
       "<style scoped>\n",
       "    .dataframe tbody tr th:only-of-type {\n",
       "        vertical-align: middle;\n",
       "    }\n",
       "\n",
       "    .dataframe tbody tr th {\n",
       "        vertical-align: top;\n",
       "    }\n",
       "\n",
       "    .dataframe thead th {\n",
       "        text-align: right;\n",
       "    }\n",
       "</style>\n",
       "<table border=\"1\" class=\"dataframe\">\n",
       "  <thead>\n",
       "    <tr style=\"text-align: right;\">\n",
       "      <th></th>\n",
       "      <th>PassengerId</th>\n",
       "      <th>Survived</th>\n",
       "      <th>Pclass</th>\n",
       "      <th>Name</th>\n",
       "      <th>Sex</th>\n",
       "      <th>Age</th>\n",
       "      <th>SibSp</th>\n",
       "      <th>Parch</th>\n",
       "      <th>Ticket</th>\n",
       "      <th>Fare</th>\n",
       "      <th>Cabin</th>\n",
       "      <th>Embarked</th>\n",
       "      <th>Is_child</th>\n",
       "      <th>Family_onboard</th>\n",
       "      <th>AgeGroup</th>\n",
       "    </tr>\n",
       "  </thead>\n",
       "  <tbody>\n",
       "    <tr>\n",
       "      <th>0</th>\n",
       "      <td>1</td>\n",
       "      <td>0</td>\n",
       "      <td>3</td>\n",
       "      <td>Braund, Mr. Owen Harris</td>\n",
       "      <td>male</td>\n",
       "      <td>22.0</td>\n",
       "      <td>1</td>\n",
       "      <td>0</td>\n",
       "      <td>A/5 21171</td>\n",
       "      <td>7.2500</td>\n",
       "      <td>NaN</td>\n",
       "      <td>S</td>\n",
       "      <td>False</td>\n",
       "      <td>True</td>\n",
       "      <td>20-29</td>\n",
       "    </tr>\n",
       "    <tr>\n",
       "      <th>1</th>\n",
       "      <td>2</td>\n",
       "      <td>1</td>\n",
       "      <td>1</td>\n",
       "      <td>Cumings, Mrs. John Bradley (Florence Briggs Th...</td>\n",
       "      <td>female</td>\n",
       "      <td>38.0</td>\n",
       "      <td>1</td>\n",
       "      <td>0</td>\n",
       "      <td>PC 17599</td>\n",
       "      <td>71.2833</td>\n",
       "      <td>C85</td>\n",
       "      <td>C</td>\n",
       "      <td>False</td>\n",
       "      <td>True</td>\n",
       "      <td>30-39</td>\n",
       "    </tr>\n",
       "    <tr>\n",
       "      <th>2</th>\n",
       "      <td>3</td>\n",
       "      <td>1</td>\n",
       "      <td>3</td>\n",
       "      <td>Heikkinen, Miss. Laina</td>\n",
       "      <td>female</td>\n",
       "      <td>26.0</td>\n",
       "      <td>0</td>\n",
       "      <td>0</td>\n",
       "      <td>STON/O2. 3101282</td>\n",
       "      <td>7.9250</td>\n",
       "      <td>NaN</td>\n",
       "      <td>S</td>\n",
       "      <td>False</td>\n",
       "      <td>False</td>\n",
       "      <td>20-29</td>\n",
       "    </tr>\n",
       "    <tr>\n",
       "      <th>3</th>\n",
       "      <td>4</td>\n",
       "      <td>1</td>\n",
       "      <td>1</td>\n",
       "      <td>Futrelle, Mrs. Jacques Heath (Lily May Peel)</td>\n",
       "      <td>female</td>\n",
       "      <td>35.0</td>\n",
       "      <td>1</td>\n",
       "      <td>0</td>\n",
       "      <td>113803</td>\n",
       "      <td>53.1000</td>\n",
       "      <td>C123</td>\n",
       "      <td>S</td>\n",
       "      <td>False</td>\n",
       "      <td>True</td>\n",
       "      <td>30-39</td>\n",
       "    </tr>\n",
       "    <tr>\n",
       "      <th>4</th>\n",
       "      <td>5</td>\n",
       "      <td>0</td>\n",
       "      <td>3</td>\n",
       "      <td>Allen, Mr. William Henry</td>\n",
       "      <td>male</td>\n",
       "      <td>35.0</td>\n",
       "      <td>0</td>\n",
       "      <td>0</td>\n",
       "      <td>373450</td>\n",
       "      <td>8.0500</td>\n",
       "      <td>NaN</td>\n",
       "      <td>S</td>\n",
       "      <td>False</td>\n",
       "      <td>False</td>\n",
       "      <td>30-39</td>\n",
       "    </tr>\n",
       "  </tbody>\n",
       "</table>\n",
       "</div>"
      ],
      "text/plain": [
       "   PassengerId  Survived  Pclass  \\\n",
       "0            1         0       3   \n",
       "1            2         1       1   \n",
       "2            3         1       3   \n",
       "3            4         1       1   \n",
       "4            5         0       3   \n",
       "\n",
       "                                                Name     Sex   Age  SibSp  \\\n",
       "0                            Braund, Mr. Owen Harris    male  22.0      1   \n",
       "1  Cumings, Mrs. John Bradley (Florence Briggs Th...  female  38.0      1   \n",
       "2                             Heikkinen, Miss. Laina  female  26.0      0   \n",
       "3       Futrelle, Mrs. Jacques Heath (Lily May Peel)  female  35.0      1   \n",
       "4                           Allen, Mr. William Henry    male  35.0      0   \n",
       "\n",
       "   Parch            Ticket     Fare Cabin Embarked  Is_child  Family_onboard  \\\n",
       "0      0         A/5 21171   7.2500   NaN        S     False            True   \n",
       "1      0          PC 17599  71.2833   C85        C     False            True   \n",
       "2      0  STON/O2. 3101282   7.9250   NaN        S     False           False   \n",
       "3      0            113803  53.1000  C123        S     False            True   \n",
       "4      0            373450   8.0500   NaN        S     False           False   \n",
       "\n",
       "  AgeGroup  \n",
       "0    20-29  \n",
       "1    30-39  \n",
       "2    20-29  \n",
       "3    30-39  \n",
       "4    30-39  "
      ]
     },
     "execution_count": 32,
     "metadata": {},
     "output_type": "execute_result"
    }
   ],
   "source": [
    "titanic.head()"
   ]
  },
  {
   "cell_type": "code",
   "execution_count": 37,
   "id": "4d11cf3a",
   "metadata": {},
   "outputs": [
    {
     "data": {
      "text/plain": [
       "1"
      ]
     },
     "execution_count": 37,
     "metadata": {},
     "output_type": "execute_result"
    }
   ],
   "source": [
    "len(titanic[titanic[\"AgeGroup\"]=='80-89']) #number of rows where column meets a value"
   ]
  },
  {
   "cell_type": "code",
   "execution_count": 38,
   "id": "b757b4c6",
   "metadata": {},
   "outputs": [
    {
     "data": {
      "text/plain": [
       "6"
      ]
     },
     "execution_count": 38,
     "metadata": {},
     "output_type": "execute_result"
    }
   ],
   "source": [
    "len(titanic[titanic[\"AgeGroup\"]=='70-79'])"
   ]
  },
  {
   "cell_type": "code",
   "execution_count": 39,
   "id": "712fad41",
   "metadata": {},
   "outputs": [
    {
     "name": "stdout",
     "output_type": "stream",
     "text": [
      "Similar survival rate for 0-9 year olds both male and female,significantly lower survival rate for male aged 10-19 compared to women of same age. This trend continues for all other (higher) age groups. Perhaps no data recorded of survivors 70-79 and only 1 male aged 80-89 survived. This male was also the only person aged 80-89 who survived or not so a trend cannot be established\n"
     ]
    }
   ],
   "source": [
    "print(\"Similar survival rate for 0-9 year olds both male and female,significantly lower survival rate for male aged 10-19 compared to women of same age. This trend continues for all other (higher) age groups. Perhaps no data recorded of survivors 70-79 and only 1 male aged 80-89 survived. This male was also the only person aged 80-89 who survived or not so a trend cannot be established\")"
   ]
  },
  {
   "cell_type": "code",
   "execution_count": null,
   "id": "f6f4195b",
   "metadata": {},
   "outputs": [],
   "source": []
  }
 ],
 "metadata": {
  "kernelspec": {
   "display_name": "Python 3 (ipykernel)",
   "language": "python",
   "name": "python3"
  },
  "language_info": {
   "codemirror_mode": {
    "name": "ipython",
    "version": 3
   },
   "file_extension": ".py",
   "mimetype": "text/x-python",
   "name": "python",
   "nbconvert_exporter": "python",
   "pygments_lexer": "ipython3",
   "version": "3.9.12"
  }
 },
 "nbformat": 4,
 "nbformat_minor": 5
}
